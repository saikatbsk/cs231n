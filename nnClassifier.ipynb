{
 "cells": [
  {
   "cell_type": "code",
   "execution_count": 1,
   "metadata": {},
   "outputs": [],
   "source": [
    "import numpy as np\n",
    "from classifiers import nearestNeighbor"
   ]
  },
  {
   "cell_type": "code",
   "execution_count": 2,
   "metadata": {},
   "outputs": [],
   "source": [
    "nnClassifier = nearestNeighbor.nearestNeighbor()\n",
    "\n",
    "X = np.array([[3, 4, 5], [1, 4, 2], [5, 6, 2], [1, 7, 4], [2, 6, 3], [4, 6, 2]])\n",
    "y = np.array([0, 1, 2, 3, 4])"
   ]
  },
  {
   "cell_type": "code",
   "execution_count": 3,
   "metadata": {},
   "outputs": [],
   "source": [
    "nnClassifier.train(X, y)"
   ]
  },
  {
   "cell_type": "code",
   "execution_count": 4,
   "metadata": {},
   "outputs": [
    {
     "name": "stdout",
     "output_type": "stream",
     "text": [
      "predictions: [0 3]\n",
      "distances:   [0.         0.16666667]\n"
     ]
    }
   ],
   "source": [
    "y_pred, y_dist = nnClassifier.predict(np.array([[3, 4, 5], [1, 6, 4]]), metric='l1')\n",
    "print('predictions: {}\\ndistances:   {}'.format(y_pred, y_dist))"
   ]
  },
  {
   "cell_type": "code",
   "execution_count": 5,
   "metadata": {},
   "outputs": [
    {
     "name": "stdout",
     "output_type": "stream",
     "text": [
      "predictions: [0 3]\n",
      "distances:   [0.        0.2236068]\n"
     ]
    }
   ],
   "source": [
    "y_pred, y_dist = nnClassifier.predict(np.array([[3, 4, 5], [1, 6, 4]]), metric='l2')\n",
    "print('predictions: {}\\ndistances:   {}'.format(y_pred, y_dist))"
   ]
  },
  {
   "cell_type": "code",
   "execution_count": null,
   "metadata": {},
   "outputs": [],
   "source": []
  }
 ],
 "metadata": {
  "kernelspec": {
   "display_name": "Python 3",
   "language": "python",
   "name": "python3"
  },
  "language_info": {
   "codemirror_mode": {
    "name": "ipython",
    "version": 3
   },
   "file_extension": ".py",
   "mimetype": "text/x-python",
   "name": "python",
   "nbconvert_exporter": "python",
   "pygments_lexer": "ipython3",
   "version": "3.5.2"
  }
 },
 "nbformat": 4,
 "nbformat_minor": 2
}
